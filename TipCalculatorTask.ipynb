{
  "cells": [
    {
      "cell_type": "markdown",
      "source": [
        "\n",
        "How to calculate Tip Amount Using Python This tip calculator will find Tip Amount based on Individual Payer and Multiple Payer. Code is here to find Tip Calculator.\n"
      ],
      "metadata": {
        "id": "TgnzeVBsxlMB"
      },
      "id": "TgnzeVBsxlMB"
    },
    {
      "cell_type": "code",
      "execution_count": null,
      "id": "dd1f8064",
      "metadata": {
        "id": "dd1f8064",
        "outputId": "6229ba1a-71fb-4ae8-9f14-bdf046dfbdd4"
      },
      "outputs": [
        {
          "data": {
            "image/png": "[encoded data removed]",
            "text/plain": [
              "<Figure size 432x288 with 1 Axes>"
            ]
          },
          "metadata": {
            "needs_background": "light"
          },
          "output_type": "display_data"
        }
      ],
      "source": [
        "from matplotlib import pyplot as plt\n",
        "from matplotlib import image as mpimg\n",
        "image = mpimg.imread(\"tip.PNG\")\n",
        "plt.imshow(image)\n",
        "plt.show()\n",
        "# on the right hand side there is a hint left hand side shows how your outout should look like"
      ]
    },
    {
      "cell_type": "code",
      "execution_count": null,
      "id": "4c09444e",
      "metadata": {
        "id": "4c09444e"
      },
      "outputs": [],
      "source": [
        "#If the bill was $150.00, split between 5 people, with 12% tip.\n",
        "\n",
        "#Each person should pay (150.00 / 5) * 1.12 = 33.6\n",
        "#Format the result to 2 decimal places = 33.60\n",
        "\n",
        "#Tip: There are 2 ways to round a number. You might have to do some Googling to solve this.💪\n",
        "\n",
        "#Write your code below this line 👇"
      ]
    },
    {
      "cell_type": "code",
      "execution_count": 1,
      "id": "291550fc",
      "metadata": {
        "colab": {
          "base_uri": "https://localhost:8080/"
        },
        "id": "291550fc",
        "outputId": "b951ce4a-bd63-48be-d1b5-224b027ea4e7"
      },
      "outputs": [
        {
          "output_type": "stream",
          "name": "stdout",
          "text": [
            "Welcome to Tip Calculator!\n",
            "what is the total bill? 150\n",
            "percentage tip 10%, 20% etc. ? 12\n",
            "number of people to split the bill? 5\n",
            "Each Person Pay: 33.6\n"
          ]
        }
      ],
      "source": [
        "print(\"Welcome to Tip Calculator!\")\n",
        "Total_bill = float (input(\"what is the total bill? \"))\n",
        "Tip_Percentage = float (input (\"percentage tip 10%, 20% etc. ? \"))\n",
        "Number_of_people= int (input (\"number of people to split the bill? \"))\n",
        "Total_Tip=Total_bill*(Tip_Percentage/100)\n",
        "Total_Amount = Total_bill + Total_Tip\n",
        "Tip_per_person =Total_Tip/Number_of_people\n",
        "Total_Amount_per_person =Total_Amount/Number_of_people\n",
        "X=round(Total_Amount_per_person, 2)\n",
        "print(\"Each Person Pay:\", X)"
      ]
    }
  ],
  "metadata": {
    "kernelspec": {
      "display_name": "Python 3 (ipykernel)",
      "language": "python",
      "name": "python3"
    },
    "language_info": {
      "codemirror_mode": {
        "name": "ipython",
        "version": 3
      },
      "file_extension": ".py",
      "mimetype": "text/x-python",
      "name": "python",
      "nbconvert_exporter": "python",
      "pygments_lexer": "ipython3",
      "version": "3.9.12"
    },
    "colab": {
      "provenance": []
    }
  },
  "nbformat": 4,
  "nbformat_minor": 5
}